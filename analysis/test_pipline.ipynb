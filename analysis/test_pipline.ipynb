{
 "cells": [
  {
   "cell_type": "markdown",
   "metadata": {},
   "source": [
    "# <center> This nootebook for test pipline"
   ]
  },
  {
   "cell_type": "code",
   "execution_count": 1,
   "metadata": {},
   "outputs": [],
   "source": [
    "import pandas as pd\n",
    "import numpy as np\n",
    "import joblib"
   ]
  },
  {
   "cell_type": "code",
   "execution_count": 2,
   "metadata": {},
   "outputs": [
    {
     "name": "stdout",
     "output_type": "stream",
     "text": [
      "['data scientist'\n",
      " \"Who We Are:\\nWe believe a workplace food program is something employees should love and look forward to every day. Powered by technology and a network of over 2,000 restaurants, Fooda feeds hungry people at work through our ongoing food programs located within companies and office buildings. Every day each Fooda location is served by different restaurants that come onsite and serve fresh lunch from unique menus. Fooda operates in over 20 major US cities and plans for continued expansion.\\nAbout the Team:\\nOur Data Science & Analytics team is changing the way Fooda uses data. The company has placed a huge strategic focus on building out our data science and analytics capabilities and you will be core to this growth. The team is responsible for all machine learning, business intelligence, insights generation, and advanced analytics automation for the company partnering closely with Product, Engineering, Sales, Marketing, Finance, and Operations to drive innovative analytic solutions.\\nWill you join us?\\nWhat You Will be Doing:\\nAs a Data Scientist, you will work on the Data Science and Analytics team to drive and evolve the analytics solutions and experimentation at Fooda. You will have the ability to own analytic decision making, analysis, and data science implementation to enable Fooda to become a world-class data driven organization.\\nResponsibilities:\\nLeverage SQL, Python, and data visualization tools to analyze data to drive key business decisions and provide technical and business direction using strong analytical and communication skills\\nChampion leveraging data to drive actionable insights through experimentation, predictive modeling, and automation across all business functions\\nDevelop, test, and implement complex technical solutions to improve Fooda’s data strategy and data science capabilities\\nWork closely with internal stakeholders across the organization to identify opportunities to drive optimization by leveraging advanced analytics and data analysis\\nWhat You Bring to Fooda:\\n4+ years experience working in data science or advanced analytic functions\\nExperience developing and deploying advanced machine learning algorithms and statistics: regression, clustering, decision trees, neural networks, simulation, etc.\\nExtensive knowledge and experience performing analysis on large datasets using statistical computer languages (Python, SQL, R, etc.)\\nBackground knowledge and experience in running controlled experiments. Starting from experiment set up, planning, data collection, and analysis of results\\nAttention to detail and the ability to think critically and solve problems using analytical and quantitative methodologies\\nStrong oral/written communication skills, specifically the ability to communicate and translate difficult analytical problems to stakeholders with minimal analytics backgroun\\nAbility to work effectively and multi-task in a high paced environment\\nPreferred Qualifications:\\nMaster’s Degree in a quantitative field such as Information Systems, Computer Science, Statistics, or Mathematics\\nDemonstrated ability to manage complex technical projects: work prioritization, planning, task delegation and hitting deadlines\\nExperience with programing/scripting languages and data science tools (Python, Scala, Spark, Jupyter)\\nExperience diving into data quality and data profiling analysis to ensure data consistency and accuracy across enterprise reporting\\nExperience analyzing and integrating data from external systems into an analytic environment\\nWhat We'll Hook You Up With:\\nCompetitive market salary and stock options, based on experience\\nComprehensive health, dental and vision plans\\nFlexible spending accounts\\n401k matching\\nDaily subsidized lunch program (ours!) and free food and beverages in the office\\nA fulfilling, challenging adventure of a work experience\\nJm9Q7Drg44\\nShow less\\nReport\"\n",
      " 1 'Company - Private' 'Information Technology Support Services'\n",
      " 'Information Technology']\n",
      "[ 89000. 129000.]\n",
      "------------------------------------------------------------------\n",
      "------------------------------------------------------------------\n",
      "------------------------------------------------------------------\n",
      "['data scientist'\n",
      " 'Machinify is a revolutionary healthcare software company with a mission to ensure that patients get the right medical treatment, at the right time, at the right price. Our cloud-based Machinify AI platform leverages the latest advances in machine learning, large language models, data analytics, and cloud processing to solve previously intractable problems, transforming healthcare administration and payment operations.\\nWe’re seeking an ML Data Scientist to join our AI focused healthcare startup. Our team has deployed models that check for anomalies in medical claims, predict the trajectory of care of a particular patient and the next likely treatment and even “read and understand” medical record documents using state-of-the-art NLP and computer vision techniques to assist clinicians. There are many more problems like this that need to be solved. If you are looking for a place where you can apply your expertise in AI/ML to solve real problems and make a difference in an industry that impacts millions of lives while accelerating your career, you’ll love Machinify. We are seeking a Machine Learning Scientist to join our team.\\nWhat you’ll do:\\nAdvance Machinify’s capabilities to model and understand medical decisions which will power a range of products in the claims processing space.\\nMake thoughtful decisions around which methods/algorithms are likely to work well in solving the business problem at hand\\nConsider the quality of the available input data and build robust systems that will work well in the presence of noise/errors\\nMeasure the model output in practical real-world settings and iterate your approach\\nLearn about the healthcare industry and become an expert over time\\nWhat You Bring:\\nYou enjoy solving real-world business problems involving data-driven optimization and ML modeling - and have been doing that successfully for a while.\\nYou are comfortable measuring and optimizing the direct business impact of work.\\nYou are interested in learning about the healthcare industry and helping us improve the care millions of people receive.\\nYou are scrappy, and love solving hard problems that matter.\\nYou are experienced with SQL, handling large-scale data, and are comfortable with at least one programming language (Python, R, etc.).\\nYou have experience building ML models using modern ML approaches like Neural Nets or Tree-ensembles from scratch for new applications - making decisions relating to which supervised labels to use, the metric to optimize for, and the features likely to be useful.\\nYou are a critical thinker who can be strategic without losing attention to detail.\\nYou are comfortable taking the initiative and owning projects from start to finish.\\nYou can build positive relationships based on trust and value delivered.\\nThe base salary for this position will vary based on an array of factors unique to each candidate such as qualifications, years and depth of experience, skill set, certifications, etc. The base salary range for this role is $180k-250k. We are hiring for different seniorities, and our Recruiting team will let you know if you qualify for a different role/range. Salary is one component of the total compensation package, which includes meaningful equity, excellent healthcare, flexible time off, and other benefits and perks.\\nEqual Employment Opportunity at Machinify\\nMachinify is committed to hiring talented and qualified individuals with diverse backgrounds for all of its positions. Machinify believes that the gathering and celebration of unique backgrounds, qualities, and cultures enriches the workplace.\\nShow less\\nReport'\n",
      " 0 'Company - Private' 'Software Development' 'Information Technology']\n",
      "[125000. 181000.]\n",
      "&&&&&&&&&&&&&&&&&&&&&&&&&&&&&&&&&&&&&&&&&&&&&&&&&&&&&&&&&&&&&&&&&&&&&&&&&&&&&&&&&&&&&&&&&&&&&&&&&&&&\n",
      "Index(['job_titile', 'job_description', 'company_size', 'company_type',\n",
      "       'company_industry', 'company_sector'],\n",
      "      dtype='object')\n",
      "Columns ======>  Index(['job_titile', 'job_description', 'company_size', 'company_type',\n",
      "       'company_industry', 'company_sector'],\n",
      "      dtype='object')\n"
     ]
    },
    {
     "name": "stderr",
     "output_type": "stream",
     "text": [
      "/home/me/anaconda3/envs/jobs/lib/python3.11/site-packages/sklearn/preprocessing/_encoders.py:975: FutureWarning: `sparse` was renamed to `sparse_output` in version 1.2 and will be removed in 1.4. `sparse_output` is ignored unless you leave `sparse` to its default value.\n",
      "  warnings.warn(\n"
     ]
    }
   ],
   "source": [
    "from utility import process_new\n"
   ]
  },
  {
   "cell_type": "code",
   "execution_count": 3,
   "metadata": {},
   "outputs": [],
   "source": [
    "new_data1 = [['data scientist',\n",
    "\"Who We Are:\\nWe believe a workplace food program is something employees should love and look forward to every day. Powered by technology and a network of over 2,000 restaurants, Fooda feeds hungry people at work through our ongoing food programs located within companies and office buildings. Every day each Fooda location is served by different restaurants that come onsite and serve fresh lunch from unique menus. Fooda operates in over 20 major US cities and plans for continued expansion.\\nAbout the Team:\\nOur Data Science & Analytics team is changing the way Fooda uses data. The company has placed a huge strategic focus on building out our data science and analytics capabilities and you will be core to this growth. The team is responsible for all machine learning, business intelligence, insights generation, and advanced analytics automation for the company partnering closely with Product, Engineering, Sales, Marketing, Finance, and Operations to drive innovative analytic solutions.\\nWill you join us?\\nWhat You Will be Doing:\\nAs a Data Scientist, you will work on the Data Science and Analytics team to drive and evolve the analytics solutions and experimentation at Fooda. You will have the ability to own analytic decision making, analysis, and data science implementation to enable Fooda to become a world-class data driven organization.\\nResponsibilities:\\nLeverage SQL, Python, and data visualization tools to analyze data to drive key business decisions and provide technical and business direction using strong analytical and communication skills\\nChampion leveraging data to drive actionable insights through experimentation, predictive modeling, and automation across all business functions\\nDevelop, test, and implement complex technical solutions to improve Fooda’s data strategy and data science capabilities\\nWork closely with internal stakeholders across the organization to identify opportunities to drive optimization by leveraging advanced analytics and data analysis\\nWhat You Bring to Fooda:\\n4+ years experience working in data science or advanced analytic functions\\nExperience developing and deploying advanced machine learning algorithms and statistics: regression, clustering, decision trees, neural networks, simulation, etc.\\nExtensive knowledge and experience performing analysis on large datasets using statistical computer languages (Python, SQL, R, etc.)\\nBackground knowledge and experience in running controlled experiments. Starting from experiment set up, planning, data collection, and analysis of results\\nAttention to detail and the ability to think critically and solve problems using analytical and quantitative methodologies\\nStrong oral/written communication skills, specifically the ability to communicate and translate difficult analytical problems to stakeholders with minimal analytics backgroun\\nAbility to work effectively and multi-task in a high paced environment\\nPreferred Qualifications:\\nMaster’s Degree in a quantitative field such as Information Systems, Computer Science, Statistics, or Mathematics\\nDemonstrated ability to manage complex technical projects: work prioritization, planning, task delegation and hitting deadlines\\nExperience with programing/scripting languages and data science tools (Python, Scala, Spark, Jupyter)\\nExperience diving into data quality and data profiling analysis to ensure data consistency and accuracy across enterprise reporting\\nExperience analyzing and integrating data from external systems into an analytic environment\\nWhat We'll Hook You Up With:\\nCompetitive market salary and stock options, based on experience\\nComprehensive health, dental and vision plans\\nFlexible spending accounts\\n401k matching\\nDaily subsidized lunch program (ours!) and free food and beverages in the office\\nA fulfilling, challenging adventure of a work experience\\nJm9Q7Drg44\\nShow less\\nReport\",\n",
    "1, 'Company - Private', 'Information Technology Support Services',\n",
    "'Information Technology']]\n",
    "\n",
    "new_data_df1 = pd.DataFrame(new_data1, columns=['job_titile', 'job_description', 'company_size', 'company_type',\n",
    "       'company_industry', 'company_sector'])"
   ]
  },
  {
   "cell_type": "code",
   "execution_count": 5,
   "metadata": {},
   "outputs": [],
   "source": [
    "processed_data = process_new(new_data_df1)"
   ]
  },
  {
   "cell_type": "code",
   "execution_count": 6,
   "metadata": {},
   "outputs": [],
   "source": [
    "model = joblib.load('../assets/linear_model.pkl')"
   ]
  },
  {
   "cell_type": "code",
   "execution_count": 7,
   "metadata": {},
   "outputs": [
    {
     "data": {
      "text/plain": [
       "array([[ 98913.39804138, 134196.42972414]])"
      ]
     },
     "execution_count": 7,
     "metadata": {},
     "output_type": "execute_result"
    }
   ],
   "source": [
    "model.predict(processed_data)"
   ]
  }
 ],
 "metadata": {
  "kernelspec": {
   "display_name": "jobs",
   "language": "python",
   "name": "python3"
  },
  "language_info": {
   "codemirror_mode": {
    "name": "ipython",
    "version": 3
   },
   "file_extension": ".py",
   "mimetype": "text/x-python",
   "name": "python",
   "nbconvert_exporter": "python",
   "pygments_lexer": "ipython3",
   "version": "3.11.5"
  }
 },
 "nbformat": 4,
 "nbformat_minor": 2
}
