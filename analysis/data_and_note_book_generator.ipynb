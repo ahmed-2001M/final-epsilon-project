{
 "cells": [
  {
   "cell_type": "markdown",
   "metadata": {},
   "source": [
    "# <center> This notebook for generate analysis notebook"
   ]
  },
  {
   "cell_type": "code",
   "execution_count": 1,
   "metadata": {},
   "outputs": [],
   "source": [
    "import sys\n",
    "sys.path.append('/home/me/work/epsilon_project')"
   ]
  },
  {
   "cell_type": "code",
   "execution_count": 2,
   "metadata": {},
   "outputs": [],
   "source": [
    "from easviz import generator\n",
    "import pandas as pd\n",
    "import matplotlib.pyplot as plt\n",
    "import seaborn as sns\n",
    "from database.DB import PostgreSQLConnection\n"
   ]
  },
  {
   "cell_type": "code",
   "execution_count": 3,
   "metadata": {},
   "outputs": [
    {
     "name": "stdout",
     "output_type": "stream",
     "text": [
      "Connected to the PostgreSQL database\n"
     ]
    }
   ],
   "source": [
    "con = PostgreSQLConnection(host='172.17.0.2',database='work',user='postgres',password='123')\n",
    "con.connect()"
   ]
  },
  {
   "cell_type": "code",
   "execution_count": 4,
   "metadata": {},
   "outputs": [
    {
     "name": "stdout",
     "output_type": "stream",
     "text": [
      "Connection to PostgreSQL closed\n"
     ]
    },
    {
     "name": "stderr",
     "output_type": "stream",
     "text": [
      "/tmp/ipykernel_17117/4280990055.py:5: UserWarning: pandas only supports SQLAlchemy connectable (engine/connection) or database string URI or sqlite3 DBAPI2 connection. Other DBAPI2 objects are not tested. Please consider using SQLAlchemy.\n",
      "  df = pd.read_sql(sql_query, con.connection)\n"
     ]
    }
   ],
   "source": [
    "# Define the SQL query to retrieve data from the table\n",
    "sql_query = \"SELECT * FROM job\"\n",
    "\n",
    "# Read the table data into a Pandas DataFrame\n",
    "df = pd.read_sql(sql_query, con.connection)\n",
    "\n",
    "# Close the database connection\n",
    "con.close()"
   ]
  },
  {
   "cell_type": "code",
   "execution_count": 5,
   "metadata": {},
   "outputs": [
    {
     "data": {
      "text/html": [
       "<div>\n",
       "<style scoped>\n",
       "    .dataframe tbody tr th:only-of-type {\n",
       "        vertical-align: middle;\n",
       "    }\n",
       "\n",
       "    .dataframe tbody tr th {\n",
       "        vertical-align: top;\n",
       "    }\n",
       "\n",
       "    .dataframe thead th {\n",
       "        text-align: right;\n",
       "    }\n",
       "</style>\n",
       "<table border=\"1\" class=\"dataframe\">\n",
       "  <thead>\n",
       "    <tr style=\"text-align: right;\">\n",
       "      <th></th>\n",
       "      <th>id</th>\n",
       "      <th>job_titile</th>\n",
       "      <th>job_location</th>\n",
       "      <th>job_description</th>\n",
       "      <th>company_name</th>\n",
       "      <th>company_size</th>\n",
       "      <th>company_founde</th>\n",
       "      <th>company_type</th>\n",
       "      <th>company_industry</th>\n",
       "      <th>company_sector</th>\n",
       "      <th>company_revenue</th>\n",
       "      <th>stars</th>\n",
       "      <th>min_salary</th>\n",
       "      <th>max_salary</th>\n",
       "    </tr>\n",
       "  </thead>\n",
       "  <tbody>\n",
       "    <tr>\n",
       "      <th>0</th>\n",
       "      <td>3fd3d844120f9a198fa1d7220204c6d8</td>\n",
       "      <td>Junior Data Analyst</td>\n",
       "      <td>Montreal</td>\n",
       "      <td>Cosmetic Physician Partners is building the le...</td>\n",
       "      <td>Cosmetic Physician Partners</td>\n",
       "      <td>NaN</td>\n",
       "      <td>4.3</td>\n",
       "      <td>4.3</td>\n",
       "      <td></td>\n",
       "      <td></td>\n",
       "      <td>0</td>\n",
       "      <td>4</td>\n",
       "      <td>49000.0</td>\n",
       "      <td>76000.0</td>\n",
       "    </tr>\n",
       "    <tr>\n",
       "      <th>1</th>\n",
       "      <td>3f668f68bbdbea01a19744b7800f9f9e</td>\n",
       "      <td>Data Analyst</td>\n",
       "      <td>Vaughan</td>\n",
       "      <td>Job Title: Data Analyst\\nJoin Our Team as a Da...</td>\n",
       "      <td>Novitech Inc.</td>\n",
       "      <td>NaN</td>\n",
       "      <td></td>\n",
       "      <td></td>\n",
       "      <td></td>\n",
       "      <td>Search</td>\n",
       "      <td>0</td>\n",
       "      <td>0</td>\n",
       "      <td>48000.0</td>\n",
       "      <td>NaN</td>\n",
       "    </tr>\n",
       "    <tr>\n",
       "      <th>2</th>\n",
       "      <td>8e12e3037980fd899c126b27de220b15</td>\n",
       "      <td>Data Analyst</td>\n",
       "      <td>Richmond</td>\n",
       "      <td>Job Title: Data Analyst\\nJoin Our Team as a Da...</td>\n",
       "      <td>Vanbuy Technology Ltd.</td>\n",
       "      <td>NaN</td>\n",
       "      <td></td>\n",
       "      <td></td>\n",
       "      <td></td>\n",
       "      <td>Search</td>\n",
       "      <td>0</td>\n",
       "      <td>0</td>\n",
       "      <td>42.0</td>\n",
       "      <td>47.0</td>\n",
       "    </tr>\n",
       "    <tr>\n",
       "      <th>3</th>\n",
       "      <td>ca3d308523cb617c9356a85ba3a002e3</td>\n",
       "      <td>Data Modeler/Data Analyst</td>\n",
       "      <td>Fairfax, VA</td>\n",
       "      <td>Responsibilities:\\n· Designs, implements, and ...</td>\n",
       "      <td>Freddie Mac</td>\n",
       "      <td>NaN</td>\n",
       "      <td>3.5</td>\n",
       "      <td>3.5</td>\n",
       "      <td></td>\n",
       "      <td></td>\n",
       "      <td>0</td>\n",
       "      <td>4</td>\n",
       "      <td>70.0</td>\n",
       "      <td>75.0</td>\n",
       "    </tr>\n",
       "    <tr>\n",
       "      <th>4</th>\n",
       "      <td>7ce0fdd4b0f0326bec173105a5392f58</td>\n",
       "      <td>Data Analyst</td>\n",
       "      <td>California, MD</td>\n",
       "      <td>The Organization: Sierra Management and Techno...</td>\n",
       "      <td>Sierra Management and Technologies, Inc</td>\n",
       "      <td>NaN</td>\n",
       "      <td>4.4</td>\n",
       "      <td>4.4</td>\n",
       "      <td></td>\n",
       "      <td></td>\n",
       "      <td>0</td>\n",
       "      <td>4</td>\n",
       "      <td>55000.0</td>\n",
       "      <td>85000.0</td>\n",
       "    </tr>\n",
       "  </tbody>\n",
       "</table>\n",
       "</div>"
      ],
      "text/plain": [
       "                                 id                 job_titile  \\\n",
       "0  3fd3d844120f9a198fa1d7220204c6d8        Junior Data Analyst   \n",
       "1  3f668f68bbdbea01a19744b7800f9f9e               Data Analyst   \n",
       "2  8e12e3037980fd899c126b27de220b15               Data Analyst   \n",
       "3  ca3d308523cb617c9356a85ba3a002e3  Data Modeler/Data Analyst   \n",
       "4  7ce0fdd4b0f0326bec173105a5392f58               Data Analyst   \n",
       "\n",
       "     job_location                                    job_description  \\\n",
       "0        Montreal  Cosmetic Physician Partners is building the le...   \n",
       "1         Vaughan  Job Title: Data Analyst\\nJoin Our Team as a Da...   \n",
       "2        Richmond  Job Title: Data Analyst\\nJoin Our Team as a Da...   \n",
       "3     Fairfax, VA  Responsibilities:\\n· Designs, implements, and ...   \n",
       "4  California, MD  The Organization: Sierra Management and Techno...   \n",
       "\n",
       "                              company_name  company_size company_founde  \\\n",
       "0              Cosmetic Physician Partners           NaN            4.3   \n",
       "1                            Novitech Inc.           NaN                  \n",
       "2                   Vanbuy Technology Ltd.           NaN                  \n",
       "3                              Freddie Mac           NaN            3.5   \n",
       "4  Sierra Management and Technologies, Inc           NaN            4.4   \n",
       "\n",
       "  company_type company_industry company_sector company_revenue  stars  \\\n",
       "0          4.3                                               0      4   \n",
       "1                                       Search               0      0   \n",
       "2                                       Search               0      0   \n",
       "3          3.5                                               0      4   \n",
       "4          4.4                                               0      4   \n",
       "\n",
       "   min_salary  max_salary  \n",
       "0     49000.0     76000.0  \n",
       "1     48000.0         NaN  \n",
       "2        42.0        47.0  \n",
       "3        70.0        75.0  \n",
       "4     55000.0     85000.0  "
      ]
     },
     "execution_count": 5,
     "metadata": {},
     "output_type": "execute_result"
    }
   ],
   "source": [
    "df.head()"
   ]
  },
  {
   "cell_type": "code",
   "execution_count": 6,
   "metadata": {},
   "outputs": [],
   "source": [
    "df.to_csv('../data/data.csv')"
   ]
  },
  {
   "cell_type": "code",
   "execution_count": 7,
   "metadata": {},
   "outputs": [],
   "source": [
    "generator.generate(notebook_path='./funhhh.ipynb',dataset_path='../data/data.csv')"
   ]
  },
  {
   "cell_type": "code",
   "execution_count": null,
   "metadata": {},
   "outputs": [],
   "source": []
  }
 ],
 "metadata": {
  "kernelspec": {
   "display_name": "jobs",
   "language": "python",
   "name": "python3"
  },
  "language_info": {
   "codemirror_mode": {
    "name": "ipython",
    "version": 3
   },
   "file_extension": ".py",
   "mimetype": "text/x-python",
   "name": "python",
   "nbconvert_exporter": "python",
   "pygments_lexer": "ipython3",
   "version": "3.11.5"
  }
 },
 "nbformat": 4,
 "nbformat_minor": 2
}
